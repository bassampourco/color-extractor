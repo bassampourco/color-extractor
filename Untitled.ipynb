{
 "cells": [
  {
   "cell_type": "code",
   "execution_count": 3,
   "metadata": {
    "collapsed": false
   },
   "outputs": [],
   "source": [
    "#!pip install -r requirements.txt"
   ]
  },
  {
   "cell_type": "code",
   "execution_count": 6,
   "metadata": {
    "collapsed": false
   },
   "outputs": [
    {
     "name": "stdout",
     "output_type": "stream",
     "text": [
      "Collecting ijson\n",
      "  Using cached ijson-2.3-py2.py3-none-any.whl\n",
      "Installing collected packages: ijson\n",
      "Successfully installed ijson-2.3\n"
     ]
    }
   ],
   "source": [
    "!pip install ijson"
   ]
  },
  {
   "cell_type": "code",
   "execution_count": 11,
   "metadata": {
    "collapsed": false
   },
   "outputs": [
    {
     "data": {
      "text/plain": [
       "array([[[113, 135,  57],\n",
       "        [114, 135,  60],\n",
       "        [114, 135,  60],\n",
       "        ..., \n",
       "        [183, 180, 172],\n",
       "        [183, 180, 172],\n",
       "        [183, 180, 172]],\n",
       "\n",
       "       [[113, 132,  63],\n",
       "        [113, 132,  63],\n",
       "        [114, 134,  62],\n",
       "        ..., \n",
       "        [184, 181, 173],\n",
       "        [184, 181, 173],\n",
       "        [184, 181, 173]],\n",
       "\n",
       "       [[113, 130,  66],\n",
       "        [114, 131,  67],\n",
       "        [114, 132,  65],\n",
       "        ..., \n",
       "        [186, 183, 175],\n",
       "        [186, 183, 175],\n",
       "        [186, 183, 175]],\n",
       "\n",
       "       ..., \n",
       "       [[ 92, 110,  49],\n",
       "        [ 91, 109,  48],\n",
       "        [ 90, 108,  47],\n",
       "        ..., \n",
       "        [ 79, 117, 147],\n",
       "        [ 80, 118, 148],\n",
       "        [ 81, 119, 149]],\n",
       "\n",
       "       [[ 92, 110,  49],\n",
       "        [ 91, 109,  50],\n",
       "        [ 89, 107,  48],\n",
       "        ..., \n",
       "        [ 87, 124, 152],\n",
       "        [ 87, 124, 152],\n",
       "        [ 88, 125, 153]],\n",
       "\n",
       "       [[ 91, 109,  50],\n",
       "        [ 90, 108,  49],\n",
       "        [ 88, 106,  47],\n",
       "        ..., \n",
       "        [ 87, 124, 152],\n",
       "        [ 87, 124, 152],\n",
       "        [ 88, 125, 153]]], dtype=uint8)"
      ]
     },
     "execution_count": 11,
     "metadata": {},
     "output_type": "execute_result"
    }
   ],
   "source": [
    "cv2.imread('color.jpg')"
   ]
  },
  {
   "cell_type": "code",
   "execution_count": 51,
   "metadata": {
    "collapsed": false
   },
   "outputs": [
    {
     "ename": "KeyError",
     "evalue": "'debug'",
     "output_type": "error",
     "traceback": [
      "\u001b[0;31m---------------------------------------------------------------------------\u001b[0m",
      "\u001b[0;31mKeyError\u001b[0m                                  Traceback (most recent call last)",
      "\u001b[0;32m<ipython-input-51-28a8699bf5d8>\u001b[0m in \u001b[0;36m<module>\u001b[0;34m()\u001b[0m\n\u001b[1;32m      8\u001b[0m \u001b[0mimg\u001b[0m \u001b[1;33m=\u001b[0m \u001b[0mcv2\u001b[0m\u001b[1;33m.\u001b[0m\u001b[0mimread\u001b[0m\u001b[1;33m(\u001b[0m\u001b[1;34m'color.jpg'\u001b[0m\u001b[1;33m)\u001b[0m\u001b[1;33m\u001b[0m\u001b[0m\n\u001b[1;32m      9\u001b[0m \u001b[1;33m\u001b[0m\u001b[0m\n\u001b[0;32m---> 10\u001b[0;31m \u001b[0mprint\u001b[0m\u001b[1;33m(\u001b[0m\u001b[0mimg_to_color\u001b[0m\u001b[1;33m.\u001b[0m\u001b[0mget\u001b[0m\u001b[1;33m(\u001b[0m\u001b[0mimg\u001b[0m\u001b[1;33m)\u001b[0m\u001b[1;33m)\u001b[0m\u001b[1;33m\u001b[0m\u001b[0m\n\u001b[0m",
      "\u001b[0;32mH:\\Jupyter Parinaz\\Image analyse Python\\color-extractor-master\\color_extractor\\image_to_color.py\u001b[0m in \u001b[0;36mget\u001b[0;34m(self, img)\u001b[0m\n\u001b[1;32m     34\u001b[0m         \u001b[0mflattened\u001b[0m \u001b[1;33m=\u001b[0m \u001b[0mlist\u001b[0m\u001b[1;33m(\u001b[0m\u001b[1;33m{\u001b[0m\u001b[0mc\u001b[0m \u001b[1;32mfor\u001b[0m \u001b[0ml\u001b[0m \u001b[1;32min\u001b[0m \u001b[0mcolors\u001b[0m \u001b[1;32mfor\u001b[0m \u001b[0mc\u001b[0m \u001b[1;32min\u001b[0m \u001b[0ml\u001b[0m\u001b[1;33m}\u001b[0m\u001b[1;33m)\u001b[0m\u001b[1;33m\u001b[0m\u001b[0m\n\u001b[1;32m     35\u001b[0m \u001b[1;33m\u001b[0m\u001b[0m\n\u001b[0;32m---> 36\u001b[0;31m         \u001b[1;32mif\u001b[0m \u001b[0mself\u001b[0m\u001b[1;33m.\u001b[0m\u001b[0m_settings\u001b[0m\u001b[1;33m[\u001b[0m\u001b[1;34m'debug'\u001b[0m\u001b[1;33m]\u001b[0m \u001b[1;32mis\u001b[0m \u001b[1;32mNone\u001b[0m\u001b[1;33m:\u001b[0m\u001b[1;33m\u001b[0m\u001b[0m\n\u001b[0m\u001b[1;32m     37\u001b[0m             \u001b[1;32mreturn\u001b[0m \u001b[0mflattened\u001b[0m\u001b[1;33m\u001b[0m\u001b[0m\n\u001b[1;32m     38\u001b[0m \u001b[1;33m\u001b[0m\u001b[0m\n",
      "\u001b[0;31mKeyError\u001b[0m: 'debug'"
     ]
    }
   ],
   "source": [
    "import cv2\n",
    "import numpy as np\n",
    "\n",
    "from color_extractor import ImageToColor\n",
    "\n",
    "npz = np.load('color_names.npz')\n",
    "img_to_color = ImageToColor(npz['samples'], npz['labels'])\n",
    "img = cv2.imread('color.jpg')\n",
    "\n",
    "print(img_to_color.get(img))"
   ]
  }
 ],
 "metadata": {
  "kernelspec": {
   "display_name": "Python 3",
   "language": "python",
   "name": "python3"
  },
  "language_info": {
   "codemirror_mode": {
    "name": "ipython",
    "version": 3
   },
   "file_extension": ".py",
   "mimetype": "text/x-python",
   "name": "python",
   "nbconvert_exporter": "python",
   "pygments_lexer": "ipython3",
   "version": "3.6.0"
  }
 },
 "nbformat": 4,
 "nbformat_minor": 2
}
